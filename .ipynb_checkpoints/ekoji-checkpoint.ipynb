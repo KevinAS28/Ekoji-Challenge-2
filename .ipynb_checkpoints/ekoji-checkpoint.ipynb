{
 "cells": [
  {
   "cell_type": "code",
   "execution_count": 221,
   "metadata": {},
   "outputs": [],
   "source": [
    "import pandas as pd\n",
    "import random\n",
    "import datetime as dt"
   ]
  },
  {
   "cell_type": "code",
   "execution_count": 202,
   "metadata": {},
   "outputs": [],
   "source": [
    "mulai_pengajaran = dt.datetime(year=2020, month=9, day=21) #senin\n",
    "df = pd.read_csv(\"tbl0.csv\")\n",
    "df.index.name = \"index\""
   ]
  },
  {
   "cell_type": "markdown",
   "metadata": {},
   "source": [
    "# Pendaftaran tutup setelah total jam 60|61|62"
   ]
  },
  {
   "cell_type": "code",
   "execution_count": 204,
   "metadata": {},
   "outputs": [
    {
     "name": "stdout",
     "output_type": "stream",
     "text": [
      "    index  Unnamed: 0     nama  waktu_dftr  jam  senin  selasa  rabu  kamis  \\\n",
      "0      49          49  right49  2020-09-12    2      1       1     1      0   \n",
      "1      75          75  right75  2020-09-12    1      0       0     1      1   \n",
      "2      80          80  right80  2020-09-12    2      1       0     0      0   \n",
      "3      31          31  right31  2020-09-12    2      1       1     1      1   \n",
      "4      32          32  right32  2020-09-12    3      1       1     0      1   \n",
      "..    ...         ...      ...         ...  ...    ...     ...   ...    ...   \n",
      "95     61          61  right61  2020-09-21    2      0       0     0      0   \n",
      "96     76          76  right76  2020-09-21    2      1       1     0      1   \n",
      "97     29          29  right29  2020-09-21    3      0       0     1      1   \n",
      "98     42          42  right42  2020-09-21    1      1       0     1      1   \n",
      "99     73          73  right73  2020-09-21    3      1       1     1      1   \n",
      "\n",
      "    jumat  sabtu  cumsum  \n",
      "0       1      0       2  \n",
      "1       1      1       3  \n",
      "2       0      0       5  \n",
      "3       1      0       7  \n",
      "4       0      1      10  \n",
      "..    ...    ...     ...  \n",
      "95      0      1     185  \n",
      "96      1      0     187  \n",
      "97      0      1     190  \n",
      "98      1      1     191  \n",
      "99      1      1     194  \n",
      "\n",
      "[100 rows x 12 columns]\n"
     ]
    }
   ],
   "source": [
    "#pendaftaran ditutup saat total jam pengajar mencapai 60|61|62\n",
    "#maka, sort database dengan waktu, ambil data dari awal hingga jam nya 60|61|62 sort\n",
    "df = df.sort_values(\"waktu_dftr\")\n",
    "df = df.reset_index()\n",
    "df[\"cumsum\"] = df[\"jam\"].cumsum()\n",
    "limit_hours = [60, 61, 62]\n",
    "from_limits = [df.where((df[\"cumsum\"]==i)).dropna() for i in limit_hours]\n",
    "\n",
    "print(df)\n"
   ]
  },
  {
   "cell_type": "code",
   "execution_count": 205,
   "metadata": {},
   "outputs": [
    {
     "name": "stdout",
     "output_type": "stream",
     "text": [
      "index                 57\n",
      "Unnamed: 0            57\n",
      "nama             right57\n",
      "waktu_dftr    2020-09-13\n",
      "jam                    3\n",
      "senin                  1\n",
      "selasa                 1\n",
      "rabu                   1\n",
      "kamis                  1\n",
      "jumat                  0\n",
      "sabtu                  1\n",
      "cumsum                44\n",
      "Name: 21, dtype: object\n"
     ]
    }
   ],
   "source": [
    "print(df.iloc[21])"
   ]
  },
  {
   "cell_type": "code",
   "execution_count": 206,
   "metadata": {},
   "outputs": [
    {
     "name": "stdout",
     "output_type": "stream",
     "text": [
      "[    index  Unnamed: 0     nama  waktu_dftr  jam  senin  selasa  rabu  kamis  \\\n",
      "29   21.0        21.0  right21  2020-09-14  3.0    0.0     0.0   0.0    0.0   \n",
      "\n",
      "    jumat  sabtu  cumsum  \n",
      "29    1.0    1.0    60.0  ]\n"
     ]
    }
   ],
   "source": [
    "#hapus dari from_limits yang tidak ada datanya\n",
    "from_limits = [i for i in from_limits if len(i[\"nama\"])!=0]\n",
    "print(from_limits)\n"
   ]
  },
  {
   "cell_type": "code",
   "execution_count": 216,
   "metadata": {
    "scrolled": true
   },
   "outputs": [
    {
     "name": "stdout",
     "output_type": "stream",
     "text": [
      "    index  Unnamed: 0     nama  waktu_dftr  jam  senin  selasa  rabu  kamis  \\\n",
      "29   21.0        21.0  right21  2020-09-14  3.0    0.0     0.0   0.0    0.0   \n",
      "\n",
      "    jumat  sabtu  cumsum  \n",
      "29    1.0    1.0    60.0  \n"
     ]
    }
   ],
   "source": [
    "#ambil yang terbanyak\n",
    "data_limit = from_limits[-1]\n",
    "print(data_limit)\n"
   ]
  },
  {
   "cell_type": "code",
   "execution_count": 217,
   "metadata": {},
   "outputs": [
    {
     "name": "stdout",
     "output_type": "stream",
     "text": [
      "29\n"
     ]
    }
   ],
   "source": [
    "#dapatkan indexnya\n",
    "index_limit = int(data_limit.index.tolist()[0])\n",
    "print(index_limit)"
   ]
  },
  {
   "cell_type": "code",
   "execution_count": 228,
   "metadata": {},
   "outputs": [
    {
     "name": "stdout",
     "output_type": "stream",
     "text": [
      "       nama  waktu_dftr  jam  senin  selasa  rabu  kamis  jumat  sabtu  cumsum\n",
      "0   right49  2020-09-12    2      1       1     1      0      1      0       2\n",
      "1   right75  2020-09-12    1      0       0     1      1      1      1       3\n",
      "2   right80  2020-09-12    2      1       0     0      0      0      0       5\n",
      "3   right31  2020-09-12    2      1       1     1      1      1      0       7\n",
      "4   right32  2020-09-12    3      1       1     0      1      0      1      10\n",
      "5   right83  2020-09-12    3      0       0     0      0      0      1      13\n",
      "6   right87  2020-09-12    2      0       0     1      0      0      1      15\n",
      "7   right33  2020-09-12    3      1       0     0      1      0      1      18\n",
      "8   right34  2020-09-12    2      1       1     1      1      1      1      20\n",
      "9   right14  2020-09-12    2      1       0     0      1      1      1      22\n",
      "10  right59  2020-09-12    1      1       1     0      1      1      0      23\n",
      "11  right13  2020-09-12    1      0       1     0      1      0      1      24\n",
      "12  right93  2020-09-12    2      1       1     1      1      1      1      26\n",
      "13  right58  2020-09-12    2      0       0     1      0      0      0      28\n",
      "14  right39  2020-09-12    1      0       0     0      0      1      0      29\n",
      "15   right1  2020-09-12    3      1       1     0      1      0      1      32\n",
      "16  right91  2020-09-13    3      1       1     0      1      0      0      35\n",
      "17  right10  2020-09-13    2      1       1     0      1      1      1      37\n",
      "18  right90  2020-09-13    1      1       1     1      1      1      1      38\n",
      "19  right94  2020-09-13    1      1       1     1      1      1      1      39\n",
      "20  right36  2020-09-13    2      1       0     0      0      0      0      41\n",
      "21  right57  2020-09-13    3      1       1     1      1      0      1      44\n",
      "22  right51  2020-09-13    2      1       1     1      1      0      1      46\n",
      "23  right50  2020-09-13    2      0       0     1      1      0      1      48\n",
      "24   right2  2020-09-13    3      1       1     1      1      1      1      51\n",
      "25  right11  2020-09-13    1      0       0     1      0      0      0      52\n",
      "26  right66  2020-09-13    1      0       1     0      0      1      0      53\n",
      "27  right46  2020-09-14    1      1       1     1      1      1      1      54\n",
      "28   right6  2020-09-14    3      0       0     0      0      1      0      57\n",
      "29  right21  2020-09-14    3      0       0     0      0      1      1      60\n"
     ]
    }
   ],
   "source": [
    "#ambil data dengan slicing \n",
    "new_df = df.iloc[0:index_limit+1]\n",
    "del new_df[\"index\"]\n",
    "del new_df[\"Unnamed: 0\"]\n",
    "print(new_df)\n",
    "\n",
    "new_df.to_csv(\"temp0.csv\")"
   ]
  },
  {
   "cell_type": "markdown",
   "metadata": {},
   "source": [
    "# Sedapat mungkin 48 jam"
   ]
  },
  {
   "cell_type": "code",
   "execution_count": 237,
   "metadata": {},
   "outputs": [
    {
     "ename": "SyntaxError",
     "evalue": "invalid syntax (<ipython-input-237-3e21e9ab330d>, line 11)",
     "output_type": "error",
     "traceback": [
      "\u001b[0;36m  File \u001b[0;32m\"<ipython-input-237-3e21e9ab330d>\"\u001b[0;36m, line \u001b[0;32m11\u001b[0m\n\u001b[0;31m    new_df[]\u001b[0m\n\u001b[0m           ^\u001b[0m\n\u001b[0;31mSyntaxError\u001b[0m\u001b[0;31m:\u001b[0m invalid syntax\n"
     ]
    }
   ],
   "source": [
    "all_days = \"senin selasa rabu kamis jumat sabtu\".split(\" \")\n",
    "\n",
    "#tambahkan kolom jumlah hari mengajar\n",
    "new_df[\"day_counts\"] = new_df[all_days].sum(axis=1)\n",
    "new_df = new_df.sort_values(\"day_counts\")\n",
    "new_df.reset_index(inplace=True)\n",
    "del new_df[\"index\"]\n",
    "del new_df[\"level_0\"]\n",
    "\n",
    "#tambahkan kolom total_hours\n",
    "new_df[\"total_hours\"] = \n"
   ]
  },
  {
   "cell_type": "code",
   "execution_count": null,
   "metadata": {},
   "outputs": [],
   "source": []
  }
 ],
 "metadata": {
  "kernelspec": {
   "display_name": "Python 3",
   "language": "python",
   "name": "python3"
  },
  "language_info": {
   "codemirror_mode": {
    "name": "ipython",
    "version": 3
   },
   "file_extension": ".py",
   "mimetype": "text/x-python",
   "name": "python",
   "nbconvert_exporter": "python",
   "pygments_lexer": "ipython3",
   "version": "3.7.6"
  }
 },
 "nbformat": 4,
 "nbformat_minor": 4
}
